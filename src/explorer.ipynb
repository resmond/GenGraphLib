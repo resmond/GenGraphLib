{
 "cells": [
  {
   "cell_type": "code",
   "id": "initial_id",
   "metadata": {
    "collapsed": true,
    "ExecuteTime": {
     "end_time": "2025-04-30T18:54:35.419618Z",
     "start_time": "2025-04-30T18:54:35.166382Z"
    }
   },
   "source": [
    "import pyarrow as par\n",
    "import polars as pol\n",
    "from gengraphlib import GraphTable\n",
    "#from gengraphlib.arrow.ParquetFileIo import read_parquet\n",
    "#( graph_table.columns,  \"/home/richard/data/jctl-logs/boots/25-04-27:06-44/logevents.parquet\" )\n",
    "\n",
    "# noinspection PyArgumentEqualDefault\n",
    "graph_table = GraphTable( \"logevents\", \"/home/richard/data/jctl-logs/boots/25-04-27:22-28/\", load_columns=False )\n",
    "table: par.Table = graph_table.read_table()\n",
    "#df: pol.DataFrame = pol.DataFrame(data = table)\n",
    "\n",
    "table"
   ],
   "outputs": [
    {
     "name": "stdout",
     "output_type": "stream",
     "text": [
      "GraphTable.read_table( /home/richard/data/jctl-logs/boots/25-04-27:06-44/logevents.parquet )\n"
     ]
    },
    {
     "data": {
      "text/plain": [
       "pyarrow.Table\n",
       "priority: dictionary<values=string, indices=int16, ordered=0>\n",
       "comm: dictionary<values=string, indices=int16, ordered=0>\n",
       "device: dictionary<values=string, indices=int16, ordered=0>\n",
       "dev: dictionary<values=string, indices=int16, ordered=0>\n",
       "logsys_timest: dictionary<values=string, indices=int16, ordered=0>\n",
       "command: dictionary<values=string, indices=int16, ordered=0>\n",
       "cfgfile: dictionary<values=string, indices=int16, ordered=0>\n",
       "code_fn: dictionary<values=string, indices=int16, ordered=0>\n",
       "sysd_usrunit: dictionary<values=string, indices=int16, ordered=0>\n",
       "transport: dictionary<values=string, indices=int16, ordered=0>\n",
       "----\n",
       "priority: [  -- dictionary:\n",
       "[\"5\",\"6\",\"7\",\"4\",\"3\"]  -- indices:\n",
       "[0,1,1,1,1,...,1,1,2,1,2]]\n",
       "comm: [  -- dictionary:\n",
       "[\"yes\",\"systemd-journal\",\"systemd-modules\",\"systemd\",\"lvm\",...,\"plasma-fallback\",\"blkdeactivate\",\"smartd\",\"stop-cupsd\",\"stop-cups-brows\"]  -- indices:\n",
       "[0,0,0,0,0,...,0,1,0,1,0]]\n",
       "device: [  -- dictionary:\n",
       "[\"c247:0\",\"+acpi:PNP0A08:00\",\"+pci_bus:0000:00\",\"+pci:0000:00:00.0\",\"+pci:0000:00:02.0\",...,\"+mei:0000:00:16.0-fbf6fcf1-96cf-4e2e-a6a6-1bab8\",\"+mei:0000:00:16.0-b638ab7e-94e2-4ea2-a552-d1c54\",\"+hdaudio:hdaudioC2D0\",\"+hid:0005:046D:B015.0004\",\"+hid:0005:046D:B34F.0005\"]  -- indices:\n",
       "[0,0,0,0,0,...,0,0,0,0,0]]\n",
       "dev: [  -- dictionary:\n",
       "[\"sda\",\"dm-0\",\"nvme0n1\",\"nvme0n1p1\",\"nvme0n1p2\",\"nvme0n1p3\"]  -- indices:\n",
       "[0,0,0,0,0,...,0,0,0,0,0]]\n",
       "logsys_timest: [  -- dictionary:\n",
       "[\"Apr 27 22:27:51 \",\"Apr 27 06:44:42 \",\"Apr 27 06:44:43 \",\"Apr 27 06:44:44 \",\"Apr 27 06:44:46 \",...,\"Apr 27 22:17:01 \",\"Apr 27 22:25:01 \",\"Apr 27 22:27:48 \",\"Apr 27 22:27:49 \",\"Apr 27 22:27:50 \"]  -- indices:\n",
       "[0,0,0,0,0,...,0,0,0,0,0]]\n",
       "command: [  -- dictionary:\n",
       "[\"ExecStart\"]  -- indices:\n",
       "[0,0,0,0,0,...,0,0,0,0,0]]\n",
       "cfgfile: [  -- dictionary:\n",
       "[\"/usr/lib/tmpfiles.d/legacy.conf\"]  -- indices:\n",
       "[0,0,0,0,0,...,0,0,0,0,0]]\n",
       "code_fn: [  -- dictionary:\n",
       "[\"xdg_autostart_service_generate_unit\",\"module_load_and_warn\",\"job_emit_done_message\",\"job_emit_start_message\",\"naming_scheme\",...,\"unit_log_process_exit\",\"button_dispatch\",\"warn_wall\",\"bus_manager_log_shutdown\",\"transaction_activate\"]  -- indices:\n",
       "[0,0,0,0,0,...,0,0,0,0,0]]\n",
       "sysd_usrunit: [  -- dictionary:\n",
       "[\"xdg-document-portal.service\",\"init.scope\",\"dbus.service\",\"ubuntustudio-pwconfig-start.service\",\"wireplumber.service\",...,\"app-org.qt\\x2dproject.qtcreator@d181eba436c74efe91cdea2890397c3b.service\",\"app-thunar@c8c25fa098134eff975ddeddd1beed04.service\",\"app-org.kde.konsole@7e5f5f1788c04c4592fc1841de7e13e6.service\",\"app-thunar@dffd03f8191a4e07a90d37ca16bc3b2d.service\",\"snap.code.code-8e0e9cec-f508-4fce-99f2-86abf489ece2.scope\"]  -- indices:\n",
       "[0,0,0,0,0,...,0,0,0,0,0]]\n",
       "transport: [  -- dictionary:\n",
       "[\"kernel\",\"syslog\",\"driver\",\"journal\",\"stdout\"]  -- indices:\n",
       "[0,0,0,0,0,...,0,0,1,1,2]]"
      ]
     },
     "execution_count": 1,
     "metadata": {},
     "output_type": "execute_result"
    }
   ],
   "execution_count": 1
  }
 ],
 "metadata": {
  "kernelspec": {
   "display_name": "Python 3",
   "language": "python",
   "name": "python3"
  },
  "language_info": {
   "codemirror_mode": {
    "name": "ipython",
    "version": 2
   },
   "file_extension": ".py",
   "mimetype": "text/x-python",
   "name": "python",
   "nbconvert_exporter": "python",
   "pygments_lexer": "ipython2",
   "version": "2.7.6"
  }
 },
 "nbformat": 4,
 "nbformat_minor": 5
}
