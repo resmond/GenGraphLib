{
 "cells": [
  {
   "cell_type": "code",
   "id": "initial_id",
   "metadata": {
    "collapsed": true
   },
   "source": [
    "#import pyarrow as par\n",
    "import polars as pol\n",
    "from src.gengraphlib import GraphTable\n",
    "\n",
    "graph_table = GraphTable( \"logevents\", \"/boots/25-04-27:06-44/\", load_columns=True )\n",
    "\n",
    "\n"
   ],
   "outputs": [],
   "execution_count": null
  },
  {
   "metadata": {},
   "cell_type": "code",
   "source": [
    "rows: list[dict] = []\n",
    "async for row in graph_table.get_rows():\n",
    "    rows.append( row )\n",
    "df = pol.DataFrame(rows)\n",
    "df"
   ],
   "id": "301d5f57bb30c0a0",
   "outputs": [],
   "execution_count": null
  },
  {
   "metadata": {},
   "cell_type": "code",
   "source": [
    "df = pol.DataFrame(graph_table.get_rows())\n",
    "df"
   ],
   "id": "8d057f65f72f962f",
   "outputs": [],
   "execution_count": null
  }
 ],
 "metadata": {
  "kernelspec": {
   "display_name": "Python 3",
   "language": "python",
   "name": "python3"
  },
  "language_info": {
   "codemirror_mode": {
    "name": "ipython",
    "version": 2
   },
   "file_extension": ".py",
   "mimetype": "text/x-python",
   "name": "python",
   "nbconvert_exporter": "python",
   "pygments_lexer": "ipython2",
   "version": "2.7.6"
  }
 },
 "nbformat": 4,
 "nbformat_minor": 5
}
