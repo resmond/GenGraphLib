{
 "cells": [
  {
   "cell_type": "code",
   "id": "initial_id",
   "metadata": {
    "collapsed": true
   },
   "source": [
    "import polars as pol\n",
    "\n",
    "dfpq = pol.read_parquet( \"/home/richard/data/jctl-logs/boots/25-05-04:12-57/logevents.parquet\" )\n",
    "\n",
    "\n",
    "\n",
    "dfpq"
   ],
   "outputs": [],
   "execution_count": null
  },
  {
   "metadata": {
    "ExecuteTime": {
     "end_time": "2025-05-09T00:51:34.729832Z",
     "start_time": "2025-05-09T00:51:34.717385Z"
    }
   },
   "cell_type": "code",
   "source": "dfqp.estimate_size()\n",
   "id": "7fed67496df7a1e5",
   "outputs": [
    {
     "ename": "NameError",
     "evalue": "name 'dfqp' is not defined",
     "output_type": "error",
     "traceback": [
      "\u001B[31m---------------------------------------------------------------------------\u001B[39m",
      "\u001B[31mNameError\u001B[39m                                 Traceback (most recent call last)",
      "\u001B[36mCell\u001B[39m\u001B[36m \u001B[39m\u001B[32mIn[3]\u001B[39m\u001B[32m, line 1\u001B[39m\n\u001B[32m----> \u001B[39m\u001B[32m1\u001B[39m \u001B[43mdfqp\u001B[49m.estimate_size()\n",
      "\u001B[31mNameError\u001B[39m: name 'dfqp' is not defined"
     ]
    }
   ],
   "execution_count": 3
  }
 ],
 "metadata": {
  "kernelspec": {
   "display_name": "Python 3",
   "language": "python",
   "name": "python3"
  },
  "language_info": {
   "codemirror_mode": {
    "name": "ipython",
    "version": 2
   },
   "file_extension": ".py",
   "mimetype": "text/x-python",
   "name": "python",
   "nbconvert_exporter": "python",
   "pygments_lexer": "ipython2",
   "version": "2.7.6"
  }
 },
 "nbformat": 4,
 "nbformat_minor": 5
}
