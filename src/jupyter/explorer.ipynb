{
 "cells": [
  {
   "cell_type": "code",
   "id": "initial_id",
   "metadata": {
    "collapsed": true
   },
   "source": [
    "# import pyarrow as par\n",
    "# import polars as pol\n",
    "# from ..gengraphlib import GraphTable\n",
    "#from gengraphlib.arrow.ParquetFileIo import read_parquet\n",
    "#( graph_table.columns,  \"/home/richard/data/jctl-logs/boots/25-04-27:06-44/logevents.parquet\" )\n",
    "\n",
    "# noinspection PyArgumentEqualDefault\n",
    "# graph_table = GraphTable( \"logevents\", \"/home/richard/data/jctl-logs/boots/25-04-27:22-28/\", load_columns=False )\n",
    "# table: par.Table = graph_table.read_table()\n",
    "#df: pol.DataFrame = pol.DataFrame(data = table)\n",
    "\n",
    "# table"
   ],
   "outputs": [],
   "execution_count": null
  }
 ],
 "metadata": {
  "kernelspec": {
   "display_name": "Python 3",
   "language": "python",
   "name": "python3"
  },
  "language_info": {
   "codemirror_mode": {
    "name": "ipython",
    "version": 2
   },
   "file_extension": ".py",
   "mimetype": "text/x-python",
   "name": "python",
   "nbconvert_exporter": "python",
   "pygments_lexer": "ipython2",
   "version": "2.7.6"
  }
 },
 "nbformat": 4,
 "nbformat_minor": 5
}
