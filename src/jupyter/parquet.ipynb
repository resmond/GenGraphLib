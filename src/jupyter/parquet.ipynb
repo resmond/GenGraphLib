{
 "cells": [
  {
   "cell_type": "code",
   "id": "initial_id",
   "metadata": {
    "collapsed": true,
    "ExecuteTime": {
     "end_time": "2025-04-30T01:40:23.545983Z",
     "start_time": "2025-04-30T01:40:23.477729Z"
    }
   },
   "source": [
    "import polars as pol\n",
    "\n",
    "dfpq = pol.read_parquet( \"/home/richard/data/jctl-logs/boots/25-04-27:06-44/logevents.parquet\" )\n",
    "\n",
    "dfpq"
   ],
   "outputs": [
    {
     "data": {
      "text/plain": [
       "shape: (31_192, 20)\n",
       "┌──────────┬──────────┬────────────┬───────────┬───┬───────────┬───────────┬───────────┬───────────┐\n",
       "│ priority ┆ facility ┆ comm       ┆ subsystem ┆ … ┆ syslog_pi ┆ sysd_cgro ┆ sysd_usru ┆ transport │\n",
       "│ ---      ┆ ---      ┆ ---        ┆ ---       ┆   ┆ d         ┆ up        ┆ nit       ┆ ---       │\n",
       "│ cat      ┆ cat      ┆ cat        ┆ cat       ┆   ┆ ---       ┆ ---       ┆ ---       ┆ cat       │\n",
       "│          ┆          ┆            ┆           ┆   ┆ cat       ┆ cat       ┆ cat       ┆           │\n",
       "╞══════════╪══════════╪════════════╪═══════════╪═══╪═══════════╪═══════════╪═══════════╪═══════════╡\n",
       "│ 5        ┆ 0        ┆ yes        ┆ usb       ┆ … ┆ 9849      ┆ /user.sli ┆ xdg-docum ┆ kernel    │\n",
       "│          ┆          ┆            ┆           ┆   ┆           ┆ ce/user-1 ┆ ent-porta ┆           │\n",
       "│          ┆          ┆            ┆           ┆   ┆           ┆ 26.slice/ ┆ l.service ┆           │\n",
       "│          ┆          ┆            ┆           ┆   ┆           ┆ use…      ┆           ┆           │\n",
       "│ 6        ┆ 0        ┆ yes        ┆ usb       ┆ … ┆ 9849      ┆ /user.sli ┆ xdg-docum ┆ kernel    │\n",
       "│          ┆          ┆            ┆           ┆   ┆           ┆ ce/user-1 ┆ ent-porta ┆           │\n",
       "│          ┆          ┆            ┆           ┆   ┆           ┆ 26.slice/ ┆ l.service ┆           │\n",
       "│          ┆          ┆            ┆           ┆   ┆           ┆ use…      ┆           ┆           │\n",
       "│ 6        ┆ 0        ┆ yes        ┆ usb       ┆ … ┆ 9849      ┆ /user.sli ┆ xdg-docum ┆ kernel    │\n",
       "│          ┆          ┆            ┆           ┆   ┆           ┆ ce/user-1 ┆ ent-porta ┆           │\n",
       "│          ┆          ┆            ┆           ┆   ┆           ┆ 26.slice/ ┆ l.service ┆           │\n",
       "│          ┆          ┆            ┆           ┆   ┆           ┆ use…      ┆           ┆           │\n",
       "│ 6        ┆ 0        ┆ yes        ┆ usb       ┆ … ┆ 9849      ┆ /user.sli ┆ xdg-docum ┆ kernel    │\n",
       "│          ┆          ┆            ┆           ┆   ┆           ┆ ce/user-1 ┆ ent-porta ┆           │\n",
       "│          ┆          ┆            ┆           ┆   ┆           ┆ 26.slice/ ┆ l.service ┆           │\n",
       "│          ┆          ┆            ┆           ┆   ┆           ┆ use…      ┆           ┆           │\n",
       "│ 6        ┆ 0        ┆ yes        ┆ usb       ┆ … ┆ 9849      ┆ /user.sli ┆ xdg-docum ┆ kernel    │\n",
       "│          ┆          ┆            ┆           ┆   ┆           ┆ ce/user-1 ┆ ent-porta ┆           │\n",
       "│          ┆          ┆            ┆           ┆   ┆           ┆ 26.slice/ ┆ l.service ┆           │\n",
       "│          ┆          ┆            ┆           ┆   ┆           ┆ use…      ┆           ┆           │\n",
       "│ …        ┆ …        ┆ …          ┆ …         ┆ … ┆ …         ┆ …         ┆ …         ┆ …         │\n",
       "│ 6        ┆ 3        ┆ yes        ┆ usb       ┆ … ┆ 1         ┆ /user.sli ┆ xdg-docum ┆ kernel    │\n",
       "│          ┆          ┆            ┆           ┆   ┆           ┆ ce/user-1 ┆ ent-porta ┆           │\n",
       "│          ┆          ┆            ┆           ┆   ┆           ┆ 26.slice/ ┆ l.service ┆           │\n",
       "│          ┆          ┆            ┆           ┆   ┆           ┆ use…      ┆           ┆           │\n",
       "│ 6        ┆ 5        ┆ systemd-jo ┆ usb       ┆ … ┆ 9849      ┆ /user.sli ┆ xdg-docum ┆ kernel    │\n",
       "│          ┆          ┆ urnal      ┆           ┆   ┆           ┆ ce/user-1 ┆ ent-porta ┆           │\n",
       "│          ┆          ┆            ┆           ┆   ┆           ┆ 26.slice/ ┆ l.service ┆           │\n",
       "│          ┆          ┆            ┆           ┆   ┆           ┆ use…      ┆           ┆           │\n",
       "│ 7        ┆ 9        ┆ yes        ┆ usb       ┆ … ┆ 536       ┆ /system.s ┆ xdg-docum ┆ syslog    │\n",
       "│          ┆          ┆            ┆           ┆   ┆           ┆ lice/syst ┆ ent-porta ┆           │\n",
       "│          ┆          ┆            ┆           ┆   ┆           ┆ emd-journ ┆ l.service ┆           │\n",
       "│          ┆          ┆            ┆           ┆   ┆           ┆ ald…      ┆           ┆           │\n",
       "│ 6        ┆ 3        ┆ systemd-jo ┆ usb       ┆ … ┆ 9849      ┆ /user.sli ┆ xdg-docum ┆ syslog    │\n",
       "│          ┆          ┆ urnal      ┆           ┆   ┆           ┆ ce/user-1 ┆ ent-porta ┆           │\n",
       "│          ┆          ┆            ┆           ┆   ┆           ┆ 26.slice/ ┆ l.service ┆           │\n",
       "│          ┆          ┆            ┆           ┆   ┆           ┆ use…      ┆           ┆           │\n",
       "│ 7        ┆ 9        ┆ yes        ┆ usb       ┆ … ┆ 9849      ┆ /system.s ┆ xdg-docum ┆ driver    │\n",
       "│          ┆          ┆            ┆           ┆   ┆           ┆ lice/syst ┆ ent-porta ┆           │\n",
       "│          ┆          ┆            ┆           ┆   ┆           ┆ emd-journ ┆ l.service ┆           │\n",
       "│          ┆          ┆            ┆           ┆   ┆           ┆ ald…      ┆           ┆           │\n",
       "└──────────┴──────────┴────────────┴───────────┴───┴───────────┴───────────┴───────────┴───────────┘"
      ],
      "text/html": [
       "<div><style>\n",
       ".dataframe > thead > tr,\n",
       ".dataframe > tbody > tr {\n",
       "  text-align: right;\n",
       "  white-space: pre-wrap;\n",
       "}\n",
       "</style>\n",
       "<small>shape: (31_192, 20)</small><table border=\"1\" class=\"dataframe\"><thead><tr><th>priority</th><th>facility</th><th>comm</th><th>subsystem</th><th>device</th><th>dev</th><th>rt_timest</th><th>logsys_timest</th><th>cmdline</th><th>command</th><th>exe</th><th>cfgfile</th><th>code_fn</th><th>message</th><th>pid</th><th>syslog_id</th><th>syslog_pid</th><th>sysd_cgroup</th><th>sysd_usrunit</th><th>transport</th></tr><tr><td>cat</td><td>cat</td><td>cat</td><td>cat</td><td>cat</td><td>cat</td><td>cat</td><td>cat</td><td>cat</td><td>cat</td><td>cat</td><td>cat</td><td>cat</td><td>cat</td><td>cat</td><td>cat</td><td>cat</td><td>cat</td><td>cat</td><td>cat</td></tr></thead><tbody><tr><td>&quot;5&quot;</td><td>&quot;0&quot;</td><td>&quot;yes&quot;</td><td>&quot;usb&quot;</td><td>&quot;c247:0&quot;</td><td>&quot;sda&quot;</td><td>&quot;1745754281864254&quot;</td><td>&quot;Apr 27 22:27:51 &quot;</td><td>&quot;systemd-tmpfiles --create --re…</td><td>&quot;ExecStart&quot;</td><td>&quot;/usr/sbin/wpa_supplicant&quot;</td><td>&quot;/usr/lib/tmpfiles.d/legacy.con…</td><td>&quot;xdg_autostart_service_generate…</td><td>&quot;Linux version 6.11.0-24-generi…</td><td>&quot;9849&quot;</td><td>&quot;kernel&quot;</td><td>&quot;9849&quot;</td><td>&quot;/user.slice/user-126.slice/use…</td><td>&quot;xdg-document-portal.service&quot;</td><td>&quot;kernel&quot;</td></tr><tr><td>&quot;6&quot;</td><td>&quot;0&quot;</td><td>&quot;yes&quot;</td><td>&quot;usb&quot;</td><td>&quot;c247:0&quot;</td><td>&quot;sda&quot;</td><td>&quot;1745754281864304&quot;</td><td>&quot;Apr 27 22:27:51 &quot;</td><td>&quot;systemd-tmpfiles --create --re…</td><td>&quot;ExecStart&quot;</td><td>&quot;/usr/sbin/wpa_supplicant&quot;</td><td>&quot;/usr/lib/tmpfiles.d/legacy.con…</td><td>&quot;xdg_autostart_service_generate…</td><td>&quot;Command line: BOOT_IMAGE=/vmli…</td><td>&quot;9849&quot;</td><td>&quot;kernel&quot;</td><td>&quot;9849&quot;</td><td>&quot;/user.slice/user-126.slice/use…</td><td>&quot;xdg-document-portal.service&quot;</td><td>&quot;kernel&quot;</td></tr><tr><td>&quot;6&quot;</td><td>&quot;0&quot;</td><td>&quot;yes&quot;</td><td>&quot;usb&quot;</td><td>&quot;c247:0&quot;</td><td>&quot;sda&quot;</td><td>&quot;1745754281864324&quot;</td><td>&quot;Apr 27 22:27:51 &quot;</td><td>&quot;systemd-tmpfiles --create --re…</td><td>&quot;ExecStart&quot;</td><td>&quot;/usr/sbin/wpa_supplicant&quot;</td><td>&quot;/usr/lib/tmpfiles.d/legacy.con…</td><td>&quot;xdg_autostart_service_generate…</td><td>&quot;KERNEL supported cpus:&quot;</td><td>&quot;9849&quot;</td><td>&quot;kernel&quot;</td><td>&quot;9849&quot;</td><td>&quot;/user.slice/user-126.slice/use…</td><td>&quot;xdg-document-portal.service&quot;</td><td>&quot;kernel&quot;</td></tr><tr><td>&quot;6&quot;</td><td>&quot;0&quot;</td><td>&quot;yes&quot;</td><td>&quot;usb&quot;</td><td>&quot;c247:0&quot;</td><td>&quot;sda&quot;</td><td>&quot;1745754281864338&quot;</td><td>&quot;Apr 27 22:27:51 &quot;</td><td>&quot;systemd-tmpfiles --create --re…</td><td>&quot;ExecStart&quot;</td><td>&quot;/usr/sbin/wpa_supplicant&quot;</td><td>&quot;/usr/lib/tmpfiles.d/legacy.con…</td><td>&quot;xdg_autostart_service_generate…</td><td>&quot;&nbsp;&nbsp;Intel GenuineIntel&quot;</td><td>&quot;9849&quot;</td><td>&quot;kernel&quot;</td><td>&quot;9849&quot;</td><td>&quot;/user.slice/user-126.slice/use…</td><td>&quot;xdg-document-portal.service&quot;</td><td>&quot;kernel&quot;</td></tr><tr><td>&quot;6&quot;</td><td>&quot;0&quot;</td><td>&quot;yes&quot;</td><td>&quot;usb&quot;</td><td>&quot;c247:0&quot;</td><td>&quot;sda&quot;</td><td>&quot;1745754281864350&quot;</td><td>&quot;Apr 27 22:27:51 &quot;</td><td>&quot;systemd-tmpfiles --create --re…</td><td>&quot;ExecStart&quot;</td><td>&quot;/usr/sbin/wpa_supplicant&quot;</td><td>&quot;/usr/lib/tmpfiles.d/legacy.con…</td><td>&quot;xdg_autostart_service_generate…</td><td>&quot;&nbsp;&nbsp;AMD AuthenticAMD&quot;</td><td>&quot;9849&quot;</td><td>&quot;kernel&quot;</td><td>&quot;9849&quot;</td><td>&quot;/user.slice/user-126.slice/use…</td><td>&quot;xdg-document-portal.service&quot;</td><td>&quot;kernel&quot;</td></tr><tr><td>&hellip;</td><td>&hellip;</td><td>&hellip;</td><td>&hellip;</td><td>&hellip;</td><td>&hellip;</td><td>&hellip;</td><td>&hellip;</td><td>&hellip;</td><td>&hellip;</td><td>&hellip;</td><td>&hellip;</td><td>&hellip;</td><td>&hellip;</td><td>&hellip;</td><td>&hellip;</td><td>&hellip;</td><td>&hellip;</td><td>&hellip;</td><td>&hellip;</td></tr><tr><td>&quot;6&quot;</td><td>&quot;3&quot;</td><td>&quot;yes&quot;</td><td>&quot;usb&quot;</td><td>&quot;c247:0&quot;</td><td>&quot;sda&quot;</td><td>&quot;1745810873298371&quot;</td><td>&quot;Apr 27 22:27:51 &quot;</td><td>&quot;systemd-tmpfiles --create --re…</td><td>&quot;ExecStart&quot;</td><td>&quot;/usr/sbin/wpa_supplicant&quot;</td><td>&quot;/usr/lib/tmpfiles.d/legacy.con…</td><td>&quot;xdg_autostart_service_generate…</td><td>&quot;Sending SIGTERM to remaining p…</td><td>&quot;9849&quot;</td><td>&quot;systemd-shutdown&quot;</td><td>&quot;1&quot;</td><td>&quot;/user.slice/user-126.slice/use…</td><td>&quot;xdg-document-portal.service&quot;</td><td>&quot;kernel&quot;</td></tr><tr><td>&quot;6&quot;</td><td>&quot;5&quot;</td><td>&quot;systemd-journal&quot;</td><td>&quot;usb&quot;</td><td>&quot;c247:0&quot;</td><td>&quot;sda&quot;</td><td>&quot;1745810873298403&quot;</td><td>&quot;Apr 27 22:27:51 &quot;</td><td>&quot;/usr/lib/systemd/systemd-journ…</td><td>&quot;ExecStart&quot;</td><td>&quot;/usr/lib/systemd/systemd-journ…</td><td>&quot;/usr/lib/tmpfiles.d/legacy.con…</td><td>&quot;xdg_autostart_service_generate…</td><td>&quot;zbud: loaded&quot;</td><td>&quot;9849&quot;</td><td>&quot;systemd-journald&quot;</td><td>&quot;9849&quot;</td><td>&quot;/user.slice/user-126.slice/use…</td><td>&quot;xdg-document-portal.service&quot;</td><td>&quot;kernel&quot;</td></tr><tr><td>&quot;7&quot;</td><td>&quot;9&quot;</td><td>&quot;yes&quot;</td><td>&quot;usb&quot;</td><td>&quot;c247:0&quot;</td><td>&quot;sda&quot;</td><td>&quot;1745810873298440&quot;</td><td>&quot;Apr 27 22:27:51 &quot;</td><td>&quot;systemd-tmpfiles --create --re…</td><td>&quot;ExecStart&quot;</td><td>&quot;/usr/sbin/wpa_supplicant&quot;</td><td>&quot;/usr/lib/tmpfiles.d/legacy.con…</td><td>&quot;xdg_autostart_service_generate…</td><td>&quot;Received SIGTERM from PID 1 (s…</td><td>&quot;536&quot;</td><td>&quot;xdg-document-portal&quot;</td><td>&quot;536&quot;</td><td>&quot;/system.slice/systemd-journald…</td><td>&quot;xdg-document-portal.service&quot;</td><td>&quot;syslog&quot;</td></tr><tr><td>&quot;6&quot;</td><td>&quot;3&quot;</td><td>&quot;systemd-journal&quot;</td><td>&quot;usb&quot;</td><td>&quot;c247:0&quot;</td><td>&quot;sda&quot;</td><td>&quot;1745810873298440&quot;</td><td>&quot;Apr 27 22:27:51 &quot;</td><td>&quot;/usr/lib/systemd/systemd-journ…</td><td>&quot;ExecStart&quot;</td><td>&quot;/usr/lib/systemd/systemd-journ…</td><td>&quot;/usr/lib/tmpfiles.d/legacy.con…</td><td>&quot;xdg_autostart_service_generate…</td><td>&quot;zbud: loaded&quot;</td><td>&quot;9849&quot;</td><td>&quot;systemd-journald&quot;</td><td>&quot;9849&quot;</td><td>&quot;/user.slice/user-126.slice/use…</td><td>&quot;xdg-document-portal.service&quot;</td><td>&quot;syslog&quot;</td></tr><tr><td>&quot;7&quot;</td><td>&quot;9&quot;</td><td>&quot;yes&quot;</td><td>&quot;usb&quot;</td><td>&quot;c247:0&quot;</td><td>&quot;sda&quot;</td><td>&quot;1745810873298440&quot;</td><td>&quot;Apr 27 22:27:51 &quot;</td><td>&quot;systemd-tmpfiles --create --re…</td><td>&quot;ExecStart&quot;</td><td>&quot;/usr/sbin/wpa_supplicant&quot;</td><td>&quot;/usr/lib/tmpfiles.d/legacy.con…</td><td>&quot;xdg_autostart_service_generate…</td><td>&quot;Journal stopped&quot;</td><td>&quot;536&quot;</td><td>&quot;xdg-document-portal&quot;</td><td>&quot;9849&quot;</td><td>&quot;/system.slice/systemd-journald…</td><td>&quot;xdg-document-portal.service&quot;</td><td>&quot;driver&quot;</td></tr></tbody></table></div>"
      ]
     },
     "execution_count": 1,
     "metadata": {},
     "output_type": "execute_result"
    }
   ],
   "execution_count": 1
  },
  {
   "metadata": {},
   "cell_type": "code",
   "outputs": [],
   "execution_count": null,
   "source": "",
   "id": "d8ce98be738a5019"
  }
 ],
 "metadata": {
  "kernelspec": {
   "display_name": "Python 3",
   "language": "python",
   "name": "python3"
  },
  "language_info": {
   "codemirror_mode": {
    "name": "ipython",
    "version": 2
   },
   "file_extension": ".py",
   "mimetype": "text/x-python",
   "name": "python",
   "nbconvert_exporter": "python",
   "pygments_lexer": "ipython2",
   "version": "2.7.6"
  }
 },
 "nbformat": 4,
 "nbformat_minor": 5
}
