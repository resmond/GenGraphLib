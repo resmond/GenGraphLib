{
 "cells": [
  {
   "cell_type": "code",
   "id": "initial_id",
   "metadata": {
    "collapsed": true,
    "ExecuteTime": {
     "end_time": "2025-05-08T20:38:16.179712Z",
     "start_time": "2025-05-08T20:38:15.984029Z"
    }
   },
   "source": [
    "import polars as pol\n",
    "\n",
    "dfpq = pol.read_parquet( \"/home/richard/data/jctl-logs/boots/25-05-04:12-57/logevents.parquet\" )\n",
    "\n",
    "dfpq"
   ],
   "outputs": [
    {
     "data": {
      "text/plain": [
       "shape: (57_139, 7)\n",
       "┌──────────────┬──────────────┬──────────────┬──────────┬──────────────┬─────────────┬─────────────┐\n",
       "│ netwk_domain ┆ netwk_device ┆ syslog_id    ┆ priority ┆ timestamp    ┆ sysd_cgroup ┆ message     │\n",
       "│ s            ┆ ---          ┆ ---          ┆ ---      ┆ ---          ┆ ---         ┆ ---         │\n",
       "│ ---          ┆ str          ┆ str          ┆ u8       ┆ datetime[ms] ┆ str         ┆ str         │\n",
       "│ str          ┆              ┆              ┆          ┆              ┆             ┆             │\n",
       "╞══════════════╪══════════════╪══════════════╪══════════╪══════════════╪═════════════╪═════════════╡\n",
       "│ null         ┆ null         ┆ null         ┆ null     ┆ null         ┆ null        ┆ null        │\n",
       "│ null         ┆ null         ┆ kernel       ┆ 5        ┆ 2025-05-04   ┆ null        ┆ Linux       │\n",
       "│              ┆              ┆              ┆          ┆ 00:00:00     ┆             ┆ version 6.1 │\n",
       "│              ┆              ┆              ┆          ┆              ┆             ┆ 1.0-24-gene │\n",
       "│              ┆              ┆              ┆          ┆              ┆             ┆ ri…         │\n",
       "│ null         ┆ null         ┆ kernel       ┆ 6        ┆ 2025-05-04   ┆ null        ┆ Command     │\n",
       "│              ┆              ┆              ┆          ┆ 00:00:00     ┆             ┆ line: BOOT_ │\n",
       "│              ┆              ┆              ┆          ┆              ┆             ┆ IMAGE=/vmli │\n",
       "│              ┆              ┆              ┆          ┆              ┆             ┆ …           │\n",
       "│ null         ┆ null         ┆ kernel       ┆ 6        ┆ 2025-05-04   ┆ null        ┆ KERNEL      │\n",
       "│              ┆              ┆              ┆          ┆ 00:00:00     ┆             ┆ supported   │\n",
       "│              ┆              ┆              ┆          ┆              ┆             ┆ cpus:       │\n",
       "│ null         ┆ null         ┆ kernel       ┆ 6        ┆ 2025-05-04   ┆ null        ┆ Intel Genui │\n",
       "│              ┆              ┆              ┆          ┆ 00:00:00     ┆             ┆ neIntel     │\n",
       "│ …            ┆ …            ┆ …            ┆ …        ┆ …            ┆ …           ┆ …           │\n",
       "│ null         ┆ null         ┆ systemd      ┆ 5        ┆ 2025-05-06   ┆ /init.scope ┆ Shutting    │\n",
       "│              ┆              ┆              ┆          ┆ 00:00:00     ┆             ┆ down.       │\n",
       "│ null         ┆ null         ┆ systemd-shut ┆ 6        ┆ 2025-05-06   ┆ null        ┆ Syncing     │\n",
       "│              ┆              ┆ down         ┆          ┆ 00:00:00     ┆             ┆ filesystems │\n",
       "│              ┆              ┆              ┆          ┆              ┆             ┆ and block … │\n",
       "│ null         ┆ null         ┆ systemd-shut ┆ 6        ┆ 2025-05-06   ┆ null        ┆ Sending     │\n",
       "│              ┆              ┆ down         ┆          ┆ 00:00:00     ┆             ┆ SIGTERM to  │\n",
       "│              ┆              ┆              ┆          ┆              ┆             ┆ remaining   │\n",
       "│              ┆              ┆              ┆          ┆              ┆             ┆ p…          │\n",
       "│ null         ┆ null         ┆ systemd-jour ┆ 6        ┆ 2025-05-06   ┆ /system.sli ┆ Received    │\n",
       "│              ┆              ┆ nald         ┆          ┆ 00:00:00     ┆ ce/systemd- ┆ SIGTERM     │\n",
       "│              ┆              ┆              ┆          ┆              ┆ journald…   ┆ from PID 1  │\n",
       "│              ┆              ┆              ┆          ┆              ┆             ┆ (s…         │\n",
       "│ null         ┆ null         ┆ systemd-jour ┆ 6        ┆ 2025-05-06   ┆ /system.sli ┆ Journal     │\n",
       "│              ┆              ┆ nald         ┆          ┆ 00:00:00     ┆ ce/systemd- ┆ stopped     │\n",
       "│              ┆              ┆              ┆          ┆              ┆ journald…   ┆             │\n",
       "└──────────────┴──────────────┴──────────────┴──────────┴──────────────┴─────────────┴─────────────┘"
      ],
      "text/html": [
       "<div><style>\n",
       ".dataframe > thead > tr,\n",
       ".dataframe > tbody > tr {\n",
       "  text-align: right;\n",
       "  white-space: pre-wrap;\n",
       "}\n",
       "</style>\n",
       "<small>shape: (57_139, 7)</small><table border=\"1\" class=\"dataframe\"><thead><tr><th>netwk_domains</th><th>netwk_device</th><th>syslog_id</th><th>priority</th><th>timestamp</th><th>sysd_cgroup</th><th>message</th></tr><tr><td>str</td><td>str</td><td>str</td><td>u8</td><td>datetime[ms]</td><td>str</td><td>str</td></tr></thead><tbody><tr><td>null</td><td>null</td><td>null</td><td>null</td><td>null</td><td>null</td><td>null</td></tr><tr><td>null</td><td>null</td><td>&quot;kernel&quot;</td><td>5</td><td>2025-05-04 00:00:00</td><td>null</td><td>&quot;Linux version 6.11.0-24-generi…</td></tr><tr><td>null</td><td>null</td><td>&quot;kernel&quot;</td><td>6</td><td>2025-05-04 00:00:00</td><td>null</td><td>&quot;Command line: BOOT_IMAGE=/vmli…</td></tr><tr><td>null</td><td>null</td><td>&quot;kernel&quot;</td><td>6</td><td>2025-05-04 00:00:00</td><td>null</td><td>&quot;KERNEL supported cpus:&quot;</td></tr><tr><td>null</td><td>null</td><td>&quot;kernel&quot;</td><td>6</td><td>2025-05-04 00:00:00</td><td>null</td><td>&quot;&nbsp;&nbsp;Intel GenuineIntel&quot;</td></tr><tr><td>&hellip;</td><td>&hellip;</td><td>&hellip;</td><td>&hellip;</td><td>&hellip;</td><td>&hellip;</td><td>&hellip;</td></tr><tr><td>null</td><td>null</td><td>&quot;systemd&quot;</td><td>5</td><td>2025-05-06 00:00:00</td><td>&quot;/init.scope&quot;</td><td>&quot;Shutting down.&quot;</td></tr><tr><td>null</td><td>null</td><td>&quot;systemd-shutdown&quot;</td><td>6</td><td>2025-05-06 00:00:00</td><td>null</td><td>&quot;Syncing filesystems and block …</td></tr><tr><td>null</td><td>null</td><td>&quot;systemd-shutdown&quot;</td><td>6</td><td>2025-05-06 00:00:00</td><td>null</td><td>&quot;Sending SIGTERM to remaining p…</td></tr><tr><td>null</td><td>null</td><td>&quot;systemd-journald&quot;</td><td>6</td><td>2025-05-06 00:00:00</td><td>&quot;/system.slice/systemd-journald…</td><td>&quot;Received SIGTERM from PID 1 (s…</td></tr><tr><td>null</td><td>null</td><td>&quot;systemd-journald&quot;</td><td>6</td><td>2025-05-06 00:00:00</td><td>&quot;/system.slice/systemd-journald…</td><td>&quot;Journal stopped&quot;</td></tr></tbody></table></div>"
      ]
     },
     "execution_count": 1,
     "metadata": {},
     "output_type": "execute_result"
    }
   ],
   "execution_count": 1
  },
  {
   "metadata": {},
   "cell_type": "code",
   "source": "",
   "id": "b9d6b7a882f66eb8",
   "outputs": [],
   "execution_count": null
  }
 ],
 "metadata": {
  "kernelspec": {
   "display_name": "Python 3",
   "language": "python",
   "name": "python3"
  },
  "language_info": {
   "codemirror_mode": {
    "name": "ipython",
    "version": 2
   },
   "file_extension": ".py",
   "mimetype": "text/x-python",
   "name": "python",
   "nbconvert_exporter": "python",
   "pygments_lexer": "ipython2",
   "version": "2.7.6"
  }
 },
 "nbformat": 4,
 "nbformat_minor": 5
}
