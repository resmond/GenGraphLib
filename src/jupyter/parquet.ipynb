{
 "cells": [
  {
   "cell_type": "code",
   "id": "initial_id",
   "metadata": {
    "collapsed": true,
    "ExecuteTime": {
     "end_time": "2025-05-04T19:40:21.375168Z",
     "start_time": "2025-05-04T19:40:21.340768Z"
    }
   },
   "source": [
    "import polars as pol\n",
    "\n",
    "dfpq = pol.read_parquet( \"/home/richard/data/jctl-logs/boots/25-04-30:10-26/logevents.parquet\" )\n",
    "\n",
    "dfpq"
   ],
   "outputs": [
    {
     "data": {
      "text/plain": [
       "shape: (163_999, 18)\n",
       "┌──────┬──────────┬────────┬──────────┬───┬─────────┬──────────┬──────────────┬────────────────────┐\n",
       "│ thID ┆ jrnlName ┆ errMsg ┆ usrInvID ┆ … ┆ sysdRaw ┆ jrnlPath ┆ timestamp    ┆ cursor             │\n",
       "│ ---  ┆ ---      ┆ ---    ┆ ---      ┆   ┆ ---     ┆ ---      ┆ ---          ┆ ---                │\n",
       "│ str  ┆ str      ┆ str    ┆ str      ┆   ┆ str     ┆ str      ┆ datetime[ms] ┆ str                │\n",
       "╞══════╪══════════╪════════╪══════════╪═══╪═════════╪══════════╪══════════════╪════════════════════╡\n",
       "│ null ┆ null     ┆ null   ┆ null     ┆ … ┆ null    ┆ null     ┆ 2025-04-30   ┆ s=7d0971a098e24097 │\n",
       "│      ┆          ┆        ┆          ┆   ┆         ┆          ┆ 00:00:00     ┆ a784ffa07ef8…      │\n",
       "│ null ┆ null     ┆ null   ┆ null     ┆ … ┆ null    ┆ null     ┆ 2025-04-30   ┆ s=7d0971a098e24097 │\n",
       "│      ┆          ┆        ┆          ┆   ┆         ┆          ┆ 00:00:00     ┆ a784ffa07ef8…      │\n",
       "│ null ┆ null     ┆ null   ┆ null     ┆ … ┆ null    ┆ null     ┆ 2025-04-30   ┆ s=7d0971a098e24097 │\n",
       "│      ┆          ┆        ┆          ┆   ┆         ┆          ┆ 00:00:00     ┆ a784ffa07ef8…      │\n",
       "│ null ┆ null     ┆ null   ┆ null     ┆ … ┆ null    ┆ null     ┆ 2025-04-30   ┆ s=7d0971a098e24097 │\n",
       "│      ┆          ┆        ┆          ┆   ┆         ┆          ┆ 00:00:00     ┆ a784ffa07ef8…      │\n",
       "│ null ┆ null     ┆ null   ┆ null     ┆ … ┆ null    ┆ null     ┆ 2025-04-30   ┆ s=7d0971a098e24097 │\n",
       "│      ┆          ┆        ┆          ┆   ┆         ┆          ┆ 00:00:00     ┆ a784ffa07ef8…      │\n",
       "│ …    ┆ …        ┆ …      ┆ …        ┆ … ┆ …       ┆ …        ┆ …            ┆ …                  │\n",
       "│ null ┆ null     ┆ null   ┆ null     ┆ … ┆ null    ┆ null     ┆ 2025-05-04   ┆ s=7d0971a098e24097 │\n",
       "│      ┆          ┆        ┆          ┆   ┆         ┆          ┆ 00:00:00     ┆ a784ffa07ef8…      │\n",
       "│ null ┆ null     ┆ null   ┆ null     ┆ … ┆ null    ┆ null     ┆ 2025-05-04   ┆ s=7d0971a098e24097 │\n",
       "│      ┆          ┆        ┆          ┆   ┆         ┆          ┆ 00:00:00     ┆ a784ffa07ef8…      │\n",
       "│ null ┆ null     ┆ null   ┆ null     ┆ … ┆ null    ┆ null     ┆ null         ┆ null               │\n",
       "│ null ┆ null     ┆ null   ┆ null     ┆ … ┆ null    ┆ null     ┆ 2025-05-04   ┆ s=7d0971a098e24097 │\n",
       "│      ┆          ┆        ┆          ┆   ┆         ┆          ┆ 00:00:00     ┆ a784ffa07ef8…      │\n",
       "│ null ┆ null     ┆ null   ┆ null     ┆ … ┆ null    ┆ null     ┆ null         ┆ null               │\n",
       "└──────┴──────────┴────────┴──────────┴───┴─────────┴──────────┴──────────────┴────────────────────┘"
      ],
      "text/html": [
       "<div><style>\n",
       ".dataframe > thead > tr,\n",
       ".dataframe > tbody > tr {\n",
       "  text-align: right;\n",
       "  white-space: pre-wrap;\n",
       "}\n",
       "</style>\n",
       "<small>shape: (163_999, 18)</small><table border=\"1\" class=\"dataframe\"><thead><tr><th>thID</th><th>jrnlName</th><th>errMsg</th><th>usrInvID</th><th>interface</th><th>errDom</th><th>sysdInvID</th><th>strmID</th><th>tID</th><th>cap_eff</th><th>errCode</th><th>usrUnit</th><th>message</th><th>priority</th><th>sysdRaw</th><th>jrnlPath</th><th>timestamp</th><th>cursor</th></tr><tr><td>str</td><td>str</td><td>str</td><td>str</td><td>str</td><td>str</td><td>str</td><td>str</td><td>str</td><td>str</td><td>str</td><td>str</td><td>str</td><td>u8</td><td>str</td><td>str</td><td>datetime[ms]</td><td>str</td></tr></thead><tbody><tr><td>null</td><td>null</td><td>null</td><td>null</td><td>null</td><td>null</td><td>null</td><td>null</td><td>null</td><td>null</td><td>null</td><td>null</td><td>&quot;Linux version 6.11.0-24-generi…</td><td>5</td><td>null</td><td>null</td><td>2025-04-30 00:00:00</td><td>&quot;s=7d0971a098e24097a784ffa07ef8…</td></tr><tr><td>null</td><td>null</td><td>null</td><td>null</td><td>null</td><td>null</td><td>null</td><td>null</td><td>null</td><td>null</td><td>null</td><td>null</td><td>&quot;Command line: BOOT_IMAGE=/vmli…</td><td>6</td><td>null</td><td>null</td><td>2025-04-30 00:00:00</td><td>&quot;s=7d0971a098e24097a784ffa07ef8…</td></tr><tr><td>null</td><td>null</td><td>null</td><td>null</td><td>null</td><td>null</td><td>null</td><td>null</td><td>null</td><td>null</td><td>null</td><td>null</td><td>&quot;KERNEL supported cpus:&quot;</td><td>6</td><td>null</td><td>null</td><td>2025-04-30 00:00:00</td><td>&quot;s=7d0971a098e24097a784ffa07ef8…</td></tr><tr><td>null</td><td>null</td><td>null</td><td>null</td><td>null</td><td>null</td><td>null</td><td>null</td><td>null</td><td>null</td><td>null</td><td>null</td><td>&quot;&nbsp;&nbsp;Intel GenuineIntel&quot;</td><td>6</td><td>null</td><td>null</td><td>2025-04-30 00:00:00</td><td>&quot;s=7d0971a098e24097a784ffa07ef8…</td></tr><tr><td>null</td><td>null</td><td>null</td><td>null</td><td>null</td><td>null</td><td>null</td><td>null</td><td>null</td><td>null</td><td>null</td><td>null</td><td>&quot;&nbsp;&nbsp;AMD AuthenticAMD&quot;</td><td>6</td><td>null</td><td>null</td><td>2025-04-30 00:00:00</td><td>&quot;s=7d0971a098e24097a784ffa07ef8…</td></tr><tr><td>&hellip;</td><td>&hellip;</td><td>&hellip;</td><td>&hellip;</td><td>&hellip;</td><td>&hellip;</td><td>&hellip;</td><td>&hellip;</td><td>&hellip;</td><td>&hellip;</td><td>&hellip;</td><td>&hellip;</td><td>&hellip;</td><td>&hellip;</td><td>&hellip;</td><td>&hellip;</td><td>&hellip;</td><td>&hellip;</td></tr><tr><td>null</td><td>null</td><td>null</td><td>null</td><td>null</td><td>null</td><td>null</td><td>null</td><td>null</td><td>null</td><td>null</td><td>null</td><td>&quot;Sending SIGTERM to remaining p…</td><td>6</td><td>null</td><td>null</td><td>2025-05-04 00:00:00</td><td>&quot;s=7d0971a098e24097a784ffa07ef8…</td></tr><tr><td>null</td><td>null</td><td>null</td><td>null</td><td>null</td><td>null</td><td>null</td><td>null</td><td>null</td><td>&quot;25402800cf&quot;</td><td>null</td><td>null</td><td>null</td><td>6</td><td>null</td><td>null</td><td>2025-05-04 00:00:00</td><td>&quot;s=7d0971a098e24097a784ffa07ef8…</td></tr><tr><td>null</td><td>null</td><td>null</td><td>null</td><td>null</td><td>null</td><td>&quot;8d8cb65e3ada45028086642ca70125…</td><td>null</td><td>null</td><td>null</td><td>null</td><td>null</td><td>&quot;Received SIGTERM from PID 1 (s…</td><td>null</td><td>null</td><td>null</td><td>null</td><td>null</td></tr><tr><td>null</td><td>null</td><td>null</td><td>null</td><td>null</td><td>null</td><td>null</td><td>null</td><td>null</td><td>&quot;25402800cf&quot;</td><td>null</td><td>null</td><td>null</td><td>6</td><td>null</td><td>null</td><td>2025-05-04 00:00:00</td><td>&quot;s=7d0971a098e24097a784ffa07ef8…</td></tr><tr><td>null</td><td>null</td><td>null</td><td>null</td><td>null</td><td>null</td><td>&quot;8d8cb65e3ada45028086642ca70125…</td><td>null</td><td>null</td><td>null</td><td>null</td><td>null</td><td>&quot;Journal stopped&quot;</td><td>null</td><td>null</td><td>null</td><td>null</td><td>null</td></tr></tbody></table></div>"
      ]
     },
     "execution_count": 3,
     "metadata": {},
     "output_type": "execute_result"
    }
   ],
   "execution_count": 3
  },
  {
   "metadata": {},
   "cell_type": "code",
   "source": "",
   "id": "b9d6b7a882f66eb8",
   "outputs": [],
   "execution_count": null
  }
 ],
 "metadata": {
  "kernelspec": {
   "display_name": "Python 3",
   "language": "python",
   "name": "python3"
  },
  "language_info": {
   "codemirror_mode": {
    "name": "ipython",
    "version": 2
   },
   "file_extension": ".py",
   "mimetype": "text/x-python",
   "name": "python",
   "nbconvert_exporter": "python",
   "pygments_lexer": "ipython2",
   "version": "2.7.6"
  }
 },
 "nbformat": 4,
 "nbformat_minor": 5
}
